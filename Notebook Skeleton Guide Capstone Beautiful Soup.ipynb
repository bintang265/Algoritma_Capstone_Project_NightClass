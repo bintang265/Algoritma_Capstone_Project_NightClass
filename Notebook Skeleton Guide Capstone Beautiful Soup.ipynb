{
 "cells": [
  {
   "cell_type": "markdown",
   "metadata": {},
   "source": [
    "# Capstone Webscrapping using BeautifulSoup\n",
    "\n",
    "This notebook contains guidances & tasks on the data processing for the application\n",
    "\n",
    "## background\n",
    "\n",
    "(Please insert the background here )\n",
    "\n",
    "## Requesting the Data and Creating a BeautifulSoup\n",
    "\n",
    "Let's begin with requesting the web from the site with `get` method."
   ]
  },
  {
   "cell_type": "code",
   "execution_count": 83,
   "metadata": {
    "ExecuteTime": {
     "end_time": "2020-01-13T05:12:23.275508Z",
     "start_time": "2020-01-13T05:12:20.009898Z"
    }
   },
   "outputs": [],
   "source": [
    "import requests\n",
    "\n",
    "url_get = requests.get('https://www.exchange-rates.org/history/IDR/USD/T')"
   ]
  },
  {
   "cell_type": "markdown",
   "metadata": {},
   "source": [
    "To visualize what exactly you get from the `request.get`, we can use .content so ee what we exactly get, in here i slice it so it won't make our screen full of the html we get from the page. You can delete the slicing if you want to see what we fully get."
   ]
  },
  {
   "cell_type": "code",
   "execution_count": 84,
   "metadata": {
    "ExecuteTime": {
     "end_time": "2020-01-13T05:12:23.290648Z",
     "start_time": "2020-01-13T05:12:23.277650Z"
    }
   },
   "outputs": [
    {
     "data": {
      "text/plain": [
       "b'\\n<!DOCTYPE html>\\r\\n<!--[if lt IE 9]>\\r\\n    <html class=\"no-js ie8 oldie\" lang=\\'en\\' xml:lang=\\'en\\'>\\r\\n<![endif]-->\\r\\n<!--[if gt IE 8]><!--> <html class=\"no-js\" lang=\\'en\\' xml:lang=\\'en\\'> <!--<![endif]-->\\r\\n<head><title>Indonesian Rupiah Exchange Rate - US Dollar - Historical Exchange Rates</title>\\n<meta http-equiv=\"X-UA-Compatible\" content=\"IE=edge\">\\n<meta content=\"C#\" name=\"CODE_LANGUAGE\" />\\n<meta content=\"JavaScript\" name=\"vs_defaultClientScript\" />\\n<meta content=\"http://schemas.microsoft.com/intellis'"
      ]
     },
     "execution_count": 84,
     "metadata": {},
     "output_type": "execute_result"
    }
   ],
   "source": [
    "url_get.content[1:500]"
   ]
  },
  {
   "cell_type": "markdown",
   "metadata": {},
   "source": [
    "As we can see we get a very unstructured and complex html, which actually contains the codes needed to show the webpages on your web browser. But we as human still confused what and where we can use that piece of code, so here where we use the beautifulsoup. Beautiful soup class will result a beautifulsoup object. Beautiful Soup transforms a complex HTML document into a complex tree of Python objects. \n",
    "\n",
    "Let's make Beautiful soup object and feel free to explore the object here."
   ]
  },
  {
   "cell_type": "code",
   "execution_count": 85,
   "metadata": {
    "ExecuteTime": {
     "end_time": "2020-01-13T05:12:23.808122Z",
     "start_time": "2020-01-13T05:12:23.292610Z"
    }
   },
   "outputs": [
    {
     "name": "stdout",
     "output_type": "stream",
     "text": [
      "<class 'bs4.BeautifulSoup'>\n"
     ]
    }
   ],
   "source": [
    "from bs4 import BeautifulSoup \n",
    "\n",
    "soup = BeautifulSoup(url_get.content,\"html.parser\")\n",
    "print(type(soup))"
   ]
  },
  {
   "cell_type": "markdown",
   "metadata": {},
   "source": [
    "## Finding the right key to scrap the data & Extracting the right information"
   ]
  },
  {
   "cell_type": "markdown",
   "metadata": {},
   "source": [
    "Find the key and put the key into the `.find()` Put all the exploring the right key at this cell. (please change this markdown with your explanation)"
   ]
  },
  {
   "cell_type": "code",
   "execution_count": 86,
   "metadata": {
    "ExecuteTime": {
     "end_time": "2020-01-13T05:12:23.878904Z",
     "start_time": "2020-01-13T05:12:23.854974Z"
    }
   },
   "outputs": [
    {
     "name": "stdout",
     "output_type": "stream",
     "text": [
      "table class=\"table table-striped table-hover table-hover-solid-row table-simple history-data\">\n",
      " <tbody>\n",
      "  <tr>\n",
      "   <td>\n",
      "    7/9/2021\n",
      "   </td>\n",
      "   <td>\n",
      "    Friday\n",
      "   </td>\n",
      "   <td>\n",
      "    <a href=\"/Rate/USD/IDR/7-9-2021\">\n",
      "     14,499.31330\n",
      "    </a>\n",
      "    IDR\n",
      "   </td>\n",
      "   <td class=\"text-narrow-screen-hidden\">\n",
      "    <a href=\"/Rate/USD/IDR/7-9-2021\">\n",
      "     USD IDR rate for 7/9/2021\n",
      "    </a>\n",
      "   </td>\n",
      "  </tr>\n",
      "  <tr>\n",
      "   <td>\n",
      "    7/8/2021\n",
      "   </td>\n",
      "   <td>\n",
      "    Thursday\n",
      "   </td>\n",
      "   <td>\n",
      "    <a href=\"/Rate/USD/IDR/7\n"
     ]
    }
   ],
   "source": [
    "table = soup.find('table',attrs={'class':'table table-striped table-hover table-hover-solid-row table-simple history-data'})\n",
    "print(table.prettify()[1:500])"
   ]
  },
  {
   "cell_type": "markdown",
   "metadata": {},
   "source": [
    "Finding row length."
   ]
  },
  {
   "cell_type": "code",
   "execution_count": 87,
   "metadata": {},
   "outputs": [
    {
     "data": {
      "text/plain": [
       "130"
      ]
     },
     "execution_count": 87,
     "metadata": {},
     "output_type": "execute_result"
    }
   ],
   "source": [
    "ex_rate = table.find_all('tr', attrs={'class':''})\n",
    "row_length = len(ex_rate)\n",
    "row_length"
   ]
  },
  {
   "cell_type": "code",
   "execution_count": 88,
   "metadata": {},
   "outputs": [
    {
     "data": {
      "text/plain": [
       "<tr><td>7/9/2021</td><td>Friday</td><td><a href=\"/Rate/USD/IDR/7-9-2021\">14,499.31330</a> IDR</td><td class=\"text-narrow-screen-hidden\"><a href=\"/Rate/USD/IDR/7-9-2021\">USD IDR rate for 7/9/2021</a></td></tr>"
      ]
     },
     "execution_count": 88,
     "metadata": {},
     "output_type": "execute_result"
    }
   ],
   "source": [
    "ex_rate[0]\n"
   ]
  },
  {
   "cell_type": "code",
   "execution_count": 89,
   "metadata": {},
   "outputs": [
    {
     "name": "stdout",
     "output_type": "stream",
     "text": [
      "7/9/2021\n",
      "Friday\n",
      "14,499.31330 IDR\n",
      "7/8/2021\n",
      "Thursday\n",
      "14,515.87714 IDR\n"
     ]
    }
   ],
   "source": [
    "print(table.find_all('td', attrs={'class':\"\"})[0].text)\n",
    "print(table.find_all('td', attrs={'class':\"\"})[1].text)\n",
    "print(table.find_all('td', attrs={'class':\"\"})[2].text)\n",
    "print(table.find_all('td', attrs={'class':\"\"})[3].text)\n",
    "print(table.find_all('td', attrs={'class':\"\"})[4].text)\n",
    "print(table.find_all('td', attrs={'class':\"\"})[5].text)\n"
   ]
  },
  {
   "cell_type": "markdown",
   "metadata": {},
   "source": [
    "Do the scrapping process here (please change this markdown with your explanation)"
   ]
  },
  {
   "cell_type": "code",
   "execution_count": 90,
   "metadata": {
    "ExecuteTime": {
     "end_time": "2020-01-13T05:12:24.008256Z",
     "start_time": "2020-01-13T05:12:23.980358Z"
    }
   },
   "outputs": [
    {
     "data": {
      "text/plain": [
       "[('7/9/2021', '14,499.31330 '),\n",
       " ('7/8/2021', '14,515.87714 '),\n",
       " ('7/7/2021', '14,503.93654 '),\n",
       " ('7/6/2021', '14,469.58258 '),\n",
       " ('7/5/2021', '14,493.33968 '),\n",
       " ('7/2/2021', '14,497.65100 '),\n",
       " ('7/1/2021', '13,270.37815 '),\n",
       " ('6/30/2021', '14,491.89811 '),\n",
       " ('6/29/2021', '13,215.84052 '),\n",
       " ('6/28/2021', '14,439.22236 '),\n",
       " ('6/25/2021', '14,426.82283 '),\n",
       " ('6/24/2021', '14,436.21247 '),\n",
       " ('6/23/2021', '14,440.32729 '),\n",
       " ('6/22/2021', '14,396.08712 '),\n",
       " ('6/21/2021', '14,426.42481 '),\n",
       " ('6/18/2021', '14,440.13691 '),\n",
       " ('6/17/2021', '14,383.75138 '),\n",
       " ('6/16/2021', '14,376.12040 '),\n",
       " ('6/15/2021', '14,205.14512 '),\n",
       " ('6/14/2021', '14,205.68458 '),\n",
       " ('6/11/2021', '14,241.97728 '),\n",
       " ('6/10/2021', '14,262.89225 '),\n",
       " ('6/9/2021', '14,258.61758 '),\n",
       " ('6/8/2021', '14,256.29978 '),\n",
       " ('6/7/2021', '14,222.58206 '),\n",
       " ('6/4/2021', '14,227.49966 '),\n",
       " ('6/3/2021', '14,353.54834 '),\n",
       " ('6/2/2021', '14,276.29774 '),\n",
       " ('6/1/2021', '14,274.83728 '),\n",
       " ('5/31/2021', '14,238.06947 '),\n",
       " ('5/28/2021', '14,283.54665 '),\n",
       " ('5/27/2021', '14,326.24811 '),\n",
       " ('5/26/2021', '14,326.06920 '),\n",
       " ('5/25/2021', '14,310.90309 '),\n",
       " ('5/24/2021', '14,352.31470 '),\n",
       " ('5/21/2021', '14,401.13572 '),\n",
       " ('5/20/2021', '14,362.81181 '),\n",
       " ('5/19/2021', '14,270.34468 '),\n",
       " ('5/18/2021', '14,263.79544 '),\n",
       " ('5/17/2021', '14,113.45630 '),\n",
       " ('5/14/2021', '14,122.81112 '),\n",
       " ('5/13/2021', '14,185.45666 '),\n",
       " ('5/12/2021', '14,198.91195 '),\n",
       " ('5/11/2021', '14,197.76931 '),\n",
       " ('5/10/2021', '14,214.65659 '),\n",
       " ('5/7/2021', '14,278.55213 '),\n",
       " ('5/6/2021', '14,302.00704 '),\n",
       " ('5/5/2021', '14,422.43566 '),\n",
       " ('5/4/2021', '14,424.14155 '),\n",
       " ('5/3/2021', '14,436.81882 '),\n",
       " ('4/30/2021', '14,444.45616 '),\n",
       " ('4/29/2021', '14,487.67389 '),\n",
       " ('4/28/2021', '14,430.69637 '),\n",
       " ('4/27/2021', '14,472.65266 '),\n",
       " ('4/26/2021', '14,509.39683 '),\n",
       " ('4/23/2021', '14,496.38365 '),\n",
       " ('4/22/2021', '14,512.83503 '),\n",
       " ('4/21/2021', '14,502.26090 '),\n",
       " ('4/20/2021', '14,502.50189 '),\n",
       " ('4/19/2021', '14,546.21674 '),\n",
       " ('4/16/2021', '14,555.47086 '),\n",
       " ('4/15/2021', '14,606.52845 '),\n",
       " ('4/14/2021', '14,558.27832 '),\n",
       " ('4/13/2021', '14,591.89923 '),\n",
       " ('4/12/2021', '14,342.37375 '),\n",
       " ('4/9/2021', '14,545.59599 '),\n",
       " ('4/8/2021', '14,470.71219 '),\n",
       " ('4/7/2021', '14,522.66559 '),\n",
       " ('4/6/2021', '14,426.44421 '),\n",
       " ('4/5/2021', '14,431.06530 '),\n",
       " ('4/2/2021', '14,525.77118 '),\n",
       " ('4/1/2021', '14,471.67828 '),\n",
       " ('3/31/2021', '14,531.83272 '),\n",
       " ('3/30/2021', '14,471.20821 '),\n",
       " ('3/29/2021', '14,418.46962 '),\n",
       " ('3/26/2021', '14,348.53269 '),\n",
       " ('3/25/2021', '14,430.27484 '),\n",
       " ('3/24/2021', '14,440.74305 '),\n",
       " ('3/23/2021', '14,414.95309 '),\n",
       " ('3/22/2021', '14,378.72677 '),\n",
       " ('3/19/2021', '14,409.66972 '),\n",
       " ('3/18/2021', '14,423.29934 '),\n",
       " ('3/17/2021', '14,346.28612 '),\n",
       " ('3/16/2021', '14,407.76927 '),\n",
       " ('3/15/2021', '14,423.68150 '),\n",
       " ('3/12/2021', '14,393.57497 '),\n",
       " ('3/11/2021', '14,319.87571 '),\n",
       " ('3/10/2021', '14,387.89293 '),\n",
       " ('3/9/2021', '14,396.25662 '),\n",
       " ('3/8/2021', '14,374.33106 '),\n",
       " ('3/5/2021', '14,292.17893 '),\n",
       " ('3/4/2021', '14,261.85426 '),\n",
       " ('3/3/2021', '14,257.29443 '),\n",
       " ('3/2/2021', '14,256.28041 '),\n",
       " ('3/1/2021', '14,248.60576 '),\n",
       " ('2/26/2021', '14,300.27815 '),\n",
       " ('2/25/2021', '14,139.73096 '),\n",
       " ('2/24/2021', '14,083.03673 '),\n",
       " ('2/23/2021', '14,092.64503 '),\n",
       " ('2/22/2021', '14,118.07274 '),\n",
       " ('2/19/2021', '14,066.79375 '),\n",
       " ('2/18/2021', '14,013.51318 '),\n",
       " ('2/17/2021', '14,015.16095 '),\n",
       " ('2/16/2021', '13,935.96629 '),\n",
       " ('2/15/2021', '13,918.18725 '),\n",
       " ('2/12/2021', '13,988.54710 '),\n",
       " ('2/11/2021', '13,982.27900 '),\n",
       " ('2/10/2021', '13,994.09212 '),\n",
       " ('2/9/2021', '13,920.52018 '),\n",
       " ('2/8/2021', '14,007.25257 '),\n",
       " ('2/5/2021', '14,008.99630 '),\n",
       " ('2/4/2021', '14,020.87878 '),\n",
       " ('2/3/2021', '13,997.60682 '),\n",
       " ('2/2/2021', '14,004.60175 '),\n",
       " ('2/1/2021', '14,025.27450 '),\n",
       " ('1/29/2021', '14,027.32457 '),\n",
       " ('1/28/2021', '14,048.06146 '),\n",
       " ('1/27/2021', '14,048.72649 '),\n",
       " ('1/26/2021', '14,062.91108 '),\n",
       " ('1/25/2021', '14,021.11609 '),\n",
       " ('1/22/2021', '14,025.60268 '),\n",
       " ('1/21/2021', '13,964.91920 '),\n",
       " ('1/20/2021', '14,021.43046 '),\n",
       " ('1/19/2021', '14,063.60877 '),\n",
       " ('1/18/2021', '14,055.43768 '),\n",
       " ('1/15/2021', '14,153.46654 '),\n",
       " ('1/14/2021', '14,070.58746 '),\n",
       " ('1/13/2021', '14,125.90174 '),\n",
       " ('1/12/2021', '14,074.81444 '),\n",
       " ('1/11/2021', '14,137.24151 ')]"
      ]
     },
     "execution_count": 90,
     "metadata": {},
     "output_type": "execute_result"
    }
   ],
   "source": [
    "temp = [] #initiating a tuple\n",
    "\n",
    "for i in range(0, row_length):\n",
    "\n",
    "    #scrapping process\n",
    "    #get data\n",
    "    #rdate = table.find_all('tr')[i]\n",
    "    date = ex_rate[i].find_all('td', attrs={'class':''})[0].text\n",
    "    date = date.strip('\\n')\n",
    "    rate = ex_rate[i].find_all('td', attrs={'class':''})[2].text\n",
    "    rate = rate.strip('IDR')\n",
    "    temp.append((date,rate))\n",
    "temp "
   ]
  },
  {
   "cell_type": "code",
   "execution_count": 91,
   "metadata": {},
   "outputs": [
    {
     "data": {
      "text/plain": [
       "[('1/11/2021', '14,137.24151 '),\n",
       " ('1/12/2021', '14,074.81444 '),\n",
       " ('1/13/2021', '14,125.90174 '),\n",
       " ('1/14/2021', '14,070.58746 '),\n",
       " ('1/15/2021', '14,153.46654 '),\n",
       " ('1/18/2021', '14,055.43768 '),\n",
       " ('1/19/2021', '14,063.60877 '),\n",
       " ('1/20/2021', '14,021.43046 '),\n",
       " ('1/21/2021', '13,964.91920 '),\n",
       " ('1/22/2021', '14,025.60268 ')]"
      ]
     },
     "execution_count": 91,
     "metadata": {},
     "output_type": "execute_result"
    }
   ],
   "source": [
    "temp = temp[::-1]\n",
    "temp[:10]"
   ]
  },
  {
   "cell_type": "markdown",
   "metadata": {},
   "source": [
    "## Creating data frame & Data wrangling"
   ]
  },
  {
   "cell_type": "markdown",
   "metadata": {},
   "source": [
    "Put the array into dataframe"
   ]
  },
  {
   "cell_type": "code",
   "execution_count": 92,
   "metadata": {
    "ExecuteTime": {
     "end_time": "2020-01-13T05:12:41.517372Z",
     "start_time": "2020-01-13T05:12:29.130015Z"
    }
   },
   "outputs": [
    {
     "data": {
      "text/html": [
       "<div>\n",
       "<style scoped>\n",
       "    .dataframe tbody tr th:only-of-type {\n",
       "        vertical-align: middle;\n",
       "    }\n",
       "\n",
       "    .dataframe tbody tr th {\n",
       "        vertical-align: top;\n",
       "    }\n",
       "\n",
       "    .dataframe thead th {\n",
       "        text-align: right;\n",
       "    }\n",
       "</style>\n",
       "<table border=\"1\" class=\"dataframe\">\n",
       "  <thead>\n",
       "    <tr style=\"text-align: right;\">\n",
       "      <th></th>\n",
       "      <th>date</th>\n",
       "      <th>rate</th>\n",
       "    </tr>\n",
       "  </thead>\n",
       "  <tbody>\n",
       "    <tr>\n",
       "      <th>0</th>\n",
       "      <td>1/11/2021</td>\n",
       "      <td>14,137.24151</td>\n",
       "    </tr>\n",
       "    <tr>\n",
       "      <th>1</th>\n",
       "      <td>1/12/2021</td>\n",
       "      <td>14,074.81444</td>\n",
       "    </tr>\n",
       "    <tr>\n",
       "      <th>2</th>\n",
       "      <td>1/13/2021</td>\n",
       "      <td>14,125.90174</td>\n",
       "    </tr>\n",
       "    <tr>\n",
       "      <th>3</th>\n",
       "      <td>1/14/2021</td>\n",
       "      <td>14,070.58746</td>\n",
       "    </tr>\n",
       "    <tr>\n",
       "      <th>4</th>\n",
       "      <td>1/15/2021</td>\n",
       "      <td>14,153.46654</td>\n",
       "    </tr>\n",
       "  </tbody>\n",
       "</table>\n",
       "</div>"
      ],
      "text/plain": [
       "        date           rate\n",
       "0  1/11/2021  14,137.24151 \n",
       "1  1/12/2021  14,074.81444 \n",
       "2  1/13/2021  14,125.90174 \n",
       "3  1/14/2021  14,070.58746 \n",
       "4  1/15/2021  14,153.46654 "
      ]
     },
     "execution_count": 92,
     "metadata": {},
     "output_type": "execute_result"
    }
   ],
   "source": [
    "import pandas as pd\n",
    "import numpy as np\n",
    "df = pd.DataFrame(temp, columns =('date','rate'))\n",
    "df.head()"
   ]
  },
  {
   "cell_type": "markdown",
   "metadata": {},
   "source": [
    "Do the data cleaning here (please change this markdown with your explanation of what you do for data wrangling)"
   ]
  },
  {
   "cell_type": "code",
   "execution_count": 93,
   "metadata": {
    "ExecuteTime": {
     "end_time": "2020-01-13T05:12:59.165559Z",
     "start_time": "2020-01-13T05:12:58.910012Z"
    }
   },
   "outputs": [
    {
     "data": {
      "text/plain": [
       "date    object\n",
       "rate    object\n",
       "dtype: object"
      ]
     },
     "execution_count": 93,
     "metadata": {},
     "output_type": "execute_result"
    }
   ],
   "source": [
    "df.dtypes"
   ]
  },
  {
   "cell_type": "code",
   "execution_count": 94,
   "metadata": {},
   "outputs": [],
   "source": [
    "df['date'] =pd.to_datetime(df['date'],dayfirst=True)"
   ]
  },
  {
   "cell_type": "code",
   "execution_count": 95,
   "metadata": {},
   "outputs": [
    {
     "data": {
      "text/plain": [
       "date    datetime64[ns]\n",
       "rate           float64\n",
       "dtype: object"
      ]
     },
     "execution_count": 95,
     "metadata": {},
     "output_type": "execute_result"
    }
   ],
   "source": [
    "df['rate']=df['rate'].replace(',','',regex=True).astype('float64').round()\n",
    "df.dtypes"
   ]
  },
  {
   "cell_type": "code",
   "execution_count": 96,
   "metadata": {},
   "outputs": [
    {
     "data": {
      "text/plain": [
       "date    0\n",
       "rate    0\n",
       "dtype: int64"
      ]
     },
     "execution_count": 96,
     "metadata": {},
     "output_type": "execute_result"
    }
   ],
   "source": [
    "df.isna().sum()"
   ]
  },
  {
   "cell_type": "code",
   "execution_count": 97,
   "metadata": {},
   "outputs": [
    {
     "data": {
      "text/html": [
       "<div>\n",
       "<style scoped>\n",
       "    .dataframe tbody tr th:only-of-type {\n",
       "        vertical-align: middle;\n",
       "    }\n",
       "\n",
       "    .dataframe tbody tr th {\n",
       "        vertical-align: top;\n",
       "    }\n",
       "\n",
       "    .dataframe thead th {\n",
       "        text-align: right;\n",
       "    }\n",
       "</style>\n",
       "<table border=\"1\" class=\"dataframe\">\n",
       "  <thead>\n",
       "    <tr style=\"text-align: right;\">\n",
       "      <th></th>\n",
       "      <th>date</th>\n",
       "      <th>rate</th>\n",
       "    </tr>\n",
       "  </thead>\n",
       "  <tbody>\n",
       "    <tr>\n",
       "      <th>0</th>\n",
       "      <td>2021-11-01</td>\n",
       "      <td>14137.0</td>\n",
       "    </tr>\n",
       "    <tr>\n",
       "      <th>1</th>\n",
       "      <td>2021-12-01</td>\n",
       "      <td>14075.0</td>\n",
       "    </tr>\n",
       "    <tr>\n",
       "      <th>2</th>\n",
       "      <td>2021-01-13</td>\n",
       "      <td>14126.0</td>\n",
       "    </tr>\n",
       "    <tr>\n",
       "      <th>3</th>\n",
       "      <td>2021-01-14</td>\n",
       "      <td>14071.0</td>\n",
       "    </tr>\n",
       "    <tr>\n",
       "      <th>4</th>\n",
       "      <td>2021-01-15</td>\n",
       "      <td>14153.0</td>\n",
       "    </tr>\n",
       "  </tbody>\n",
       "</table>\n",
       "</div>"
      ],
      "text/plain": [
       "        date     rate\n",
       "0 2021-11-01  14137.0\n",
       "1 2021-12-01  14075.0\n",
       "2 2021-01-13  14126.0\n",
       "3 2021-01-14  14071.0\n",
       "4 2021-01-15  14153.0"
      ]
     },
     "execution_count": 97,
     "metadata": {},
     "output_type": "execute_result"
    }
   ],
   "source": [
    "df.head()"
   ]
  },
  {
   "cell_type": "code",
   "execution_count": 99,
   "metadata": {},
   "outputs": [],
   "source": [
    "import matplotlib.pyplot as plt"
   ]
  },
  {
   "cell_type": "code",
   "execution_count": 101,
   "metadata": {},
   "outputs": [],
   "source": [
    "df = df.set_index(['date'])"
   ]
  },
  {
   "cell_type": "code",
   "execution_count": 102,
   "metadata": {},
   "outputs": [
    {
     "data": {
      "text/html": [
       "<div>\n",
       "<style scoped>\n",
       "    .dataframe tbody tr th:only-of-type {\n",
       "        vertical-align: middle;\n",
       "    }\n",
       "\n",
       "    .dataframe tbody tr th {\n",
       "        vertical-align: top;\n",
       "    }\n",
       "\n",
       "    .dataframe thead th {\n",
       "        text-align: right;\n",
       "    }\n",
       "</style>\n",
       "<table border=\"1\" class=\"dataframe\">\n",
       "  <thead>\n",
       "    <tr style=\"text-align: right;\">\n",
       "      <th></th>\n",
       "      <th>rate</th>\n",
       "    </tr>\n",
       "  </thead>\n",
       "  <tbody>\n",
       "    <tr>\n",
       "      <th>count</th>\n",
       "      <td>130.000000</td>\n",
       "    </tr>\n",
       "    <tr>\n",
       "      <th>mean</th>\n",
       "      <td>14274.338462</td>\n",
       "    </tr>\n",
       "    <tr>\n",
       "      <th>std</th>\n",
       "      <td>223.512015</td>\n",
       "    </tr>\n",
       "    <tr>\n",
       "      <th>min</th>\n",
       "      <td>13216.000000</td>\n",
       "    </tr>\n",
       "    <tr>\n",
       "      <th>25%</th>\n",
       "      <td>14119.250000</td>\n",
       "    </tr>\n",
       "    <tr>\n",
       "      <th>50%</th>\n",
       "      <td>14315.500000</td>\n",
       "    </tr>\n",
       "    <tr>\n",
       "      <th>75%</th>\n",
       "      <td>14434.750000</td>\n",
       "    </tr>\n",
       "    <tr>\n",
       "      <th>max</th>\n",
       "      <td>14607.000000</td>\n",
       "    </tr>\n",
       "  </tbody>\n",
       "</table>\n",
       "</div>"
      ],
      "text/plain": [
       "               rate\n",
       "count    130.000000\n",
       "mean   14274.338462\n",
       "std      223.512015\n",
       "min    13216.000000\n",
       "25%    14119.250000\n",
       "50%    14315.500000\n",
       "75%    14434.750000\n",
       "max    14607.000000"
      ]
     },
     "execution_count": 102,
     "metadata": {},
     "output_type": "execute_result"
    }
   ],
   "source": [
    "df.describe()"
   ]
  },
  {
   "cell_type": "markdown",
   "metadata": {},
   "source": [
    "Data visualisation (please change this markdown with your explanation of what you do for data wrangling)"
   ]
  },
  {
   "cell_type": "markdown",
   "metadata": {},
   "source": [
    "### Implementing your webscrapping to the flask dashboard\n",
    "\n",
    "- Copy paste all of your web scrapping process to the desired position on the `app.py`\n",
    "- Changing the title of the dasboard at `index.html`"
   ]
  },
  {
   "cell_type": "markdown",
   "metadata": {},
   "source": [
    "## Finishing This Notebook with Your Analysis and Conclusion\n",
    "\n",
    "First you can do start with making the data visualisation. "
   ]
  },
  {
   "cell_type": "code",
   "execution_count": 103,
   "metadata": {},
   "outputs": [
    {
     "data": {
      "image/png": "[encoded data removed]",
      "text/plain": [
       "<Figure size 432x288 with 1 Axes>"
      ]
     },
     "metadata": {
      "needs_background": "light"
     },
     "output_type": "display_data"
    }
   ],
   "source": [
    "df.plot()\n",
    "plt.xlabel('quarterly')\n",
    "plt.ylabel('exchange rate')\n",
    "plt.show()"
   ]
  },
  {
   "cell_type": "markdown",
   "metadata": {},
   "source": [
    "Goals of this project is to visualize USD IDR exchange rate in 2021 period. it was meant to see in daily, but unfortunately i accidently changed it into quarterly, and i couldn't change it back into daily in x axis. however, this graph shows the volatility of USD IDR exchange rate, where it has higher price at Rp14.607,- along 2021 and the lowest is Rp. 13.216,-. The highest price is around Q2 period, where exponentially increased in the middle of Q1. in July the exchange rate drop sharply reach its lowest price, and rose again into 14.000 level. "
   ]
  },
  {
   "cell_type": "markdown",
   "metadata": {},
   "source": [
    "### Extra Challange\n",
    "\n",
    "This will be not included to the scoring. \n",
    "\n",
    "- You can create additional analysis from the data.\n",
    "- Implement it to the dashboard with at `app.py` dan `index.html`."
   ]
  }
 ],
 "metadata": {
  "kernelspec": {
   "display_name": "scrapme",
   "language": "python",
   "name": "scrapme"
  },
  "language_info": {
   "codemirror_mode": {
    "name": "ipython",
    "version": 3
   },
   "file_extension": ".py",
   "mimetype": "text/x-python",
   "name": "python",
   "nbconvert_exporter": "python",
   "pygments_lexer": "ipython3",
   "version": "3.8.8"
  }
 },
 "nbformat": 4,
 "nbformat_minor": 2
}
